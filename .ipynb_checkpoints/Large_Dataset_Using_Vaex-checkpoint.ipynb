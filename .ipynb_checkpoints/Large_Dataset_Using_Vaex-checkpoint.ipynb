{
 "cells": [
  {
   "cell_type": "markdown",
   "id": "59423df7",
   "metadata": {},
   "source": [
    "# Load Libraries"
   ]
  },
  {
   "cell_type": "code",
   "execution_count": 2,
   "id": "d8034a5c",
   "metadata": {},
   "outputs": [],
   "source": [
    "import h5py\n",
    "import numpy as np\n",
    "import pandas as pd"
   ]
  },
  {
   "cell_type": "markdown",
   "id": "1f842bea",
   "metadata": {},
   "source": [
    "# Load Dataset"
   ]
  },
  {
   "cell_type": "code",
   "execution_count": 36,
   "id": "37029bf2",
   "metadata": {},
   "outputs": [],
   "source": [
    "# Load existing file\n",
    "filename = \"./data/large_data.hdf5\"\n",
    "dataset = h5py.File(filename, \"r\")\n"
   ]
  },
  {
   "cell_type": "markdown",
   "id": "28059f7e",
   "metadata": {},
   "source": [
    "# Explore Dataset"
   ]
  },
  {
   "cell_type": "code",
   "execution_count": 37,
   "id": "7ea4b7dd",
   "metadata": {},
   "outputs": [
    {
     "data": {
      "text/plain": [
       "<KeysViewHDF5 ['table']>"
      ]
     },
     "execution_count": 37,
     "metadata": {},
     "output_type": "execute_result"
    }
   ],
   "source": [
    "dataset.keys()"
   ]
  },
  {
   "cell_type": "code",
   "execution_count": 38,
   "id": "01bd6730",
   "metadata": {},
   "outputs": [],
   "source": [
    "tab = dataset[\"table\"]"
   ]
  },
  {
   "cell_type": "code",
   "execution_count": 39,
   "id": "884c82e7",
   "metadata": {},
   "outputs": [
    {
     "data": {
      "text/plain": [
       "<KeysViewHDF5 ['columns']>"
      ]
     },
     "execution_count": 39,
     "metadata": {},
     "output_type": "execute_result"
    }
   ],
   "source": [
    "tab.keys()"
   ]
  },
  {
   "cell_type": "code",
   "execution_count": 40,
   "id": "fcf61973",
   "metadata": {},
   "outputs": [],
   "source": [
    "col = tab[\"columns\"]"
   ]
  },
  {
   "cell_type": "code",
   "execution_count": 51,
   "id": "1d54ac61",
   "metadata": {},
   "outputs": [],
   "source": [
    "data_val = col.keys()"
   ]
  },
  {
   "cell_type": "code",
   "execution_count": 56,
   "id": "92383867",
   "metadata": {},
   "outputs": [
    {
     "data": {
      "text/plain": [
       "<KeysViewHDF5 ['f1', 'f2', 'f3', 'f4', 'target']>"
      ]
     },
     "execution_count": 56,
     "metadata": {},
     "output_type": "execute_result"
    }
   ],
   "source": [
    "data_val"
   ]
  },
  {
   "cell_type": "code",
   "execution_count": 57,
   "id": "b9ad2cff",
   "metadata": {},
   "outputs": [
    {
     "data": {
      "text/plain": [
       "['f1', 'f2', 'f3', 'f4', 'target']"
      ]
     },
     "execution_count": 57,
     "metadata": {},
     "output_type": "execute_result"
    }
   ],
   "source": [
    "list(data_val)"
   ]
  },
  {
   "cell_type": "code",
   "execution_count": 48,
   "id": "21f2b912",
   "metadata": {},
   "outputs": [
    {
     "name": "stdout",
     "output_type": "stream",
     "text": [
      "f1\n",
      "f2\n",
      "f3\n",
      "f4\n",
      "target\n"
     ]
    }
   ],
   "source": [
    "for key in col.keys():\n",
    "    print(key)"
   ]
  },
  {
   "cell_type": "code",
   "execution_count": 64,
   "id": "b3cfe80e",
   "metadata": {},
   "outputs": [
    {
     "data": {
      "text/plain": [
       "<HDF5 group \"/table/columns/f1\" (1 members)>"
      ]
     },
     "execution_count": 64,
     "metadata": {},
     "output_type": "execute_result"
    }
   ],
   "source": [
    "col[\"f1\"]"
   ]
  },
  {
   "cell_type": "code",
   "execution_count": 65,
   "id": "23500af6",
   "metadata": {},
   "outputs": [
    {
     "data": {
      "text/plain": [
       "h5py._hl.group.Group"
      ]
     },
     "execution_count": 65,
     "metadata": {},
     "output_type": "execute_result"
    }
   ],
   "source": [
    "type(col[\"f1\"])"
   ]
  },
  {
   "cell_type": "code",
   "execution_count": 69,
   "id": "822b9f72",
   "metadata": {},
   "outputs": [
    {
     "data": {
      "text/plain": [
       "<KeysViewHDF5 ['data']>"
      ]
     },
     "execution_count": 69,
     "metadata": {},
     "output_type": "execute_result"
    }
   ],
   "source": [
    "col[\"f1\"].keys()"
   ]
  },
  {
   "cell_type": "code",
   "execution_count": 72,
   "id": "a529a90d",
   "metadata": {},
   "outputs": [
    {
     "data": {
      "text/plain": [
       "['f1', 'f2', 'f3', 'f4', 'target']"
      ]
     },
     "execution_count": 72,
     "metadata": {},
     "output_type": "execute_result"
    }
   ],
   "source": [
    "list(data_val)"
   ]
  },
  {
   "cell_type": "code",
   "execution_count": 78,
   "id": "29e04202",
   "metadata": {},
   "outputs": [
    {
     "data": {
      "text/plain": [
       "<KeysViewHDF5 ['data']>"
      ]
     },
     "execution_count": 78,
     "metadata": {},
     "output_type": "execute_result"
    }
   ],
   "source": [
    "col[\"f1\"].keys()"
   ]
  },
  {
   "cell_type": "code",
   "execution_count": 80,
   "id": "56daacb2",
   "metadata": {},
   "outputs": [
    {
     "data": {
      "text/plain": [
       "<HDF5 dataset \"data\": shape (30000000,), type \"<f8\">"
      ]
     },
     "execution_count": 80,
     "metadata": {},
     "output_type": "execute_result"
    }
   ],
   "source": [
    "col[\"f1\"][\"data\"]"
   ]
  },
  {
   "cell_type": "code",
   "execution_count": 84,
   "id": "e1ff4c2e",
   "metadata": {},
   "outputs": [],
   "source": [
    "f1_val = col[\"f1\"][\"data\"][:]"
   ]
  },
  {
   "cell_type": "code",
   "execution_count": 89,
   "id": "22897056",
   "metadata": {},
   "outputs": [
    {
     "name": "stdout",
     "output_type": "stream",
     "text": [
      "f1_val\n",
      "f2_val\n",
      "f3_val\n",
      "f4_val\n",
      "target_val\n"
     ]
    }
   ],
   "source": [
    "for i in list(data_val):\n",
    "    print(str(i)+\"_val\") "
   ]
  },
  {
   "cell_type": "code",
   "execution_count": 91,
   "id": "ec1d5a1e",
   "metadata": {},
   "outputs": [],
   "source": [
    "mylist = []\n",
    "for i in list(data_val):\n",
    "    mylist.append(col[i][\"data\"][:])"
   ]
  },
  {
   "cell_type": "code",
   "execution_count": 96,
   "id": "9a80e9eb",
   "metadata": {},
   "outputs": [
    {
     "data": {
      "text/plain": [
       "[array([ 0.20393641, -1.19543194, -2.56027118, ..., -0.18381148,\n",
       "        -0.71526345,  1.31346736]),\n",
       " array([-0.29119124,  0.06921412, -0.82784557, ...,  0.51125574,\n",
       "         2.32002815, -1.02830094]),\n",
       " array([-0.61725063,  0.29186146,  0.40555111, ..., -1.24999891,\n",
       "        -0.13065231, -0.42811914]),\n",
       " array([-1.46130047,  1.97251077, -0.13258803, ...,  0.56387117,\n",
       "        -0.79473282, -1.87614419]),\n",
       " array([ 10.79665986,  11.15401848, -20.34268409, ...,   9.9548302 ,\n",
       "         52.81310081, -49.97451745])]"
      ]
     },
     "execution_count": 96,
     "metadata": {},
     "output_type": "execute_result"
    }
   ],
   "source": [
    "mylist"
   ]
  },
  {
   "cell_type": "code",
   "execution_count": 97,
   "id": "7ed436e6",
   "metadata": {},
   "outputs": [],
   "source": [
    "# Now we ahve seen our data now lets start working with Vaex package & h5 file format"
   ]
  },
  {
   "cell_type": "markdown",
   "id": "250c856d",
   "metadata": {},
   "source": [
    "# Vaex Package"
   ]
  },
  {
   "cell_type": "code",
   "execution_count": 98,
   "id": "1a5ad4a8",
   "metadata": {},
   "outputs": [],
   "source": [
    "import vaex"
   ]
  },
  {
   "cell_type": "code",
   "execution_count": 102,
   "id": "cead73a5",
   "metadata": {},
   "outputs": [],
   "source": [
    "# https://vaex.readthedocs.io/en/latest/guides/io.html\n",
    "\n",
    "# Its not bringing entire data to the memory but loading only the meta data.\n",
    "df = vaex.open(\"./data/large_data.hdf5\")"
   ]
  },
  {
   "cell_type": "code",
   "execution_count": 103,
   "id": "2bf5858c",
   "metadata": {},
   "outputs": [
    {
     "data": {
      "text/plain": [
       "(30000000, 5)"
      ]
     },
     "execution_count": 103,
     "metadata": {},
     "output_type": "execute_result"
    }
   ],
   "source": [
    "df.shape"
   ]
  },
  {
   "cell_type": "code",
   "execution_count": 105,
   "id": "bb4f5bbb",
   "metadata": {},
   "outputs": [
    {
     "data": {
      "text/html": [
       "<div>\n",
       "<style scoped>\n",
       "    .dataframe tbody tr th:only-of-type {\n",
       "        vertical-align: middle;\n",
       "    }\n",
       "\n",
       "    .dataframe tbody tr th {\n",
       "        vertical-align: top;\n",
       "    }\n",
       "\n",
       "    .dataframe thead th {\n",
       "        text-align: right;\n",
       "    }\n",
       "</style>\n",
       "<table border=\"1\" class=\"dataframe\">\n",
       "  <thead>\n",
       "    <tr style=\"text-align: right;\">\n",
       "      <th></th>\n",
       "      <th>data_type</th>\n",
       "      <th>count</th>\n",
       "      <th>NA</th>\n",
       "      <th>mean</th>\n",
       "      <th>std</th>\n",
       "      <th>min</th>\n",
       "      <th>max</th>\n",
       "    </tr>\n",
       "  </thead>\n",
       "  <tbody>\n",
       "    <tr>\n",
       "      <th>f1</th>\n",
       "      <td>float64</td>\n",
       "      <td>30000000</td>\n",
       "      <td>0</td>\n",
       "      <td>-0.0003258115779447991</td>\n",
       "      <td>0.99999</td>\n",
       "      <td>-5.491886</td>\n",
       "      <td>5.500586</td>\n",
       "    </tr>\n",
       "    <tr>\n",
       "      <th>f2</th>\n",
       "      <td>float64</td>\n",
       "      <td>30000000</td>\n",
       "      <td>0</td>\n",
       "      <td>-0.00010609743388443436</td>\n",
       "      <td>1.000074</td>\n",
       "      <td>-5.333572</td>\n",
       "      <td>5.449671</td>\n",
       "    </tr>\n",
       "    <tr>\n",
       "      <th>f3</th>\n",
       "      <td>float64</td>\n",
       "      <td>30000000</td>\n",
       "      <td>0</td>\n",
       "      <td>-1.3602340446046406e-05</td>\n",
       "      <td>0.999861</td>\n",
       "      <td>-5.312364</td>\n",
       "      <td>5.500811</td>\n",
       "    </tr>\n",
       "    <tr>\n",
       "      <th>f4</th>\n",
       "      <td>float64</td>\n",
       "      <td>30000000</td>\n",
       "      <td>0</td>\n",
       "      <td>-6.534419772419989e-05</td>\n",
       "      <td>1.000105</td>\n",
       "      <td>-5.237933</td>\n",
       "      <td>5.347441</td>\n",
       "    </tr>\n",
       "    <tr>\n",
       "      <th>target</th>\n",
       "      <td>float64</td>\n",
       "      <td>30000000</td>\n",
       "      <td>0</td>\n",
       "      <td>-0.008363976080580053</td>\n",
       "      <td>31.311352</td>\n",
       "      <td>-169.434796</td>\n",
       "      <td>177.839871</td>\n",
       "    </tr>\n",
       "  </tbody>\n",
       "</table>\n",
       "</div>"
      ],
      "text/plain": [
       "       data_type     count NA                     mean        std         min  \\\n",
       "f1       float64  30000000  0   -0.0003258115779447991    0.99999   -5.491886   \n",
       "f2       float64  30000000  0  -0.00010609743388443436   1.000074   -5.333572   \n",
       "f3       float64  30000000  0  -1.3602340446046406e-05   0.999861   -5.312364   \n",
       "f4       float64  30000000  0   -6.534419772419989e-05   1.000105   -5.237933   \n",
       "target   float64  30000000  0    -0.008363976080580053  31.311352 -169.434796   \n",
       "\n",
       "               max  \n",
       "f1        5.500586  \n",
       "f2        5.449671  \n",
       "f3        5.500811  \n",
       "f4        5.347441  \n",
       "target  177.839871  "
      ]
     },
     "execution_count": 105,
     "metadata": {},
     "output_type": "execute_result"
    }
   ],
   "source": [
    "df.describe().T"
   ]
  },
  {
   "cell_type": "code",
   "execution_count": 106,
   "id": "ee1520e2",
   "metadata": {},
   "outputs": [],
   "source": [
    "# Vaex is fast as it goes to h5 file and read meta data"
   ]
  },
  {
   "cell_type": "code",
   "execution_count": 107,
   "id": "20506bf4",
   "metadata": {},
   "outputs": [
    {
     "name": "stderr",
     "output_type": "stream",
     "text": [
      "C:\\Users\\Admin\\anaconda3\\lib\\site-packages\\vaex\\ml\\__init__.py:28: UserWarning: Make sure the DataFrame is shuffled\n",
      "  warnings.warn('Make sure the DataFrame is shuffled')\n"
     ]
    }
   ],
   "source": [
    "df = df.shuffle()\n",
    "df_train, df_test = df.ml.train_test_split(test_size=0.2)"
   ]
  },
  {
   "cell_type": "code",
   "execution_count": 108,
   "id": "c24d29fd",
   "metadata": {},
   "outputs": [
    {
     "data": {
      "text/plain": [
       "((24000000, 5), (6000000, 5))"
      ]
     },
     "execution_count": 108,
     "metadata": {},
     "output_type": "execute_result"
    }
   ],
   "source": [
    "df_train.shape, df_test.shape"
   ]
  },
  {
   "cell_type": "code",
   "execution_count": 109,
   "id": "1edb109e",
   "metadata": {},
   "outputs": [
    {
     "data": {
      "application/vnd.jupyter.widget-view+json": {
       "model_id": "5de714fedde64b068cb546400f78aa02",
       "version_major": 2,
       "version_minor": 0
      },
      "text/plain": [
       "HBox(children=(FloatProgress(value=0.0, max=1.0), Label(value='In progress...')))"
      ]
     },
     "metadata": {},
     "output_type": "display_data"
    }
   ],
   "source": [
    "from vaex.ml.sklearn import IncrementalPredictor\n",
    "from sklearn.linear_model import SGDRegressor\n",
    "\n",
    "features = [\"f1\",\"f2\",\"f3\",\"f4\"]\n",
    "target = \"target\"\n",
    "\n",
    "model = SGDRegressor()\n",
    "\n",
    "vaex_model = IncrementalPredictor(features = features, target = target, model = model, batch_size = 500000)\n",
    "\n",
    "vaex_model.fit(df = df_train, progress=\"widget\")"
   ]
  },
  {
   "cell_type": "code",
   "execution_count": 111,
   "id": "c90d5dae",
   "metadata": {},
   "outputs": [
    {
     "data": {
      "text/html": [
       "<table>\n",
       "<thead>\n",
       "<tr><th>#                            </th><th style=\"text-align: right;\">       f1</th><th style=\"text-align: right;\">        f2</th><th style=\"text-align: right;\">       f3</th><th style=\"text-align: right;\">       f4</th><th style=\"text-align: right;\">   target</th><th style=\"text-align: right;\">  prediction</th></tr>\n",
       "</thead>\n",
       "<tbody>\n",
       "<tr><td><i style='opacity: 0.6'>0</i></td><td style=\"text-align: right;\"> 1.41915 </td><td style=\"text-align: right;\"> 0.137176 </td><td style=\"text-align: right;\"> 1.52219 </td><td style=\"text-align: right;\">-0.562451</td><td style=\"text-align: right;\">  5.4802 </td><td style=\"text-align: right;\">     3.37519</td></tr>\n",
       "<tr><td><i style='opacity: 0.6'>1</i></td><td style=\"text-align: right;\"> 0.799657</td><td style=\"text-align: right;\"> 2.02601  </td><td style=\"text-align: right;\"> 0.322278</td><td style=\"text-align: right;\">-1.82846 </td><td style=\"text-align: right;\"> 48.2477 </td><td style=\"text-align: right;\">    49.185  </td></tr>\n",
       "<tr><td><i style='opacity: 0.6'>2</i></td><td style=\"text-align: right;\">-1.03163 </td><td style=\"text-align: right;\"> 2.2024   </td><td style=\"text-align: right;\">-0.972632</td><td style=\"text-align: right;\">-0.343627</td><td style=\"text-align: right;\"> 43.7794 </td><td style=\"text-align: right;\">    53.0593 </td></tr>\n",
       "<tr><td><i style='opacity: 0.6'>3</i></td><td style=\"text-align: right;\"> 0.818666</td><td style=\"text-align: right;\"> 0.0447691</td><td style=\"text-align: right;\"> 0.468079</td><td style=\"text-align: right;\">-1.93543 </td><td style=\"text-align: right;\">-22.2781 </td><td style=\"text-align: right;\">     1.40225</td></tr>\n",
       "<tr><td><i style='opacity: 0.6'>4</i></td><td style=\"text-align: right;\">-0.302   </td><td style=\"text-align: right;\">-1.94349  </td><td style=\"text-align: right;\">-1.42975 </td><td style=\"text-align: right;\"> 1.86179 </td><td style=\"text-align: right;\">-57.0623 </td><td style=\"text-align: right;\">   -47.3879 </td></tr>\n",
       "<tr><td><i style='opacity: 0.6'>5</i></td><td style=\"text-align: right;\">-1.86761 </td><td style=\"text-align: right;\">-1.79496  </td><td style=\"text-align: right;\">-0.415552</td><td style=\"text-align: right;\">-1.68272 </td><td style=\"text-align: right;\">-58.0239 </td><td style=\"text-align: right;\">   -43.1616 </td></tr>\n",
       "<tr><td><i style='opacity: 0.6'>6</i></td><td style=\"text-align: right;\"> 1.99184 </td><td style=\"text-align: right;\"> 1.64538  </td><td style=\"text-align: right;\"> 0.610103</td><td style=\"text-align: right;\">-1.5712  </td><td style=\"text-align: right;\"> 33.8013 </td><td style=\"text-align: right;\">    40.0033 </td></tr>\n",
       "<tr><td><i style='opacity: 0.6'>7</i></td><td style=\"text-align: right;\"> 1.37187 </td><td style=\"text-align: right;\">-1.2576   </td><td style=\"text-align: right;\">-1.0566  </td><td style=\"text-align: right;\">-0.622511</td><td style=\"text-align: right;\">-24.269  </td><td style=\"text-align: right;\">   -30.2555 </td></tr>\n",
       "<tr><td><i style='opacity: 0.6'>8</i></td><td style=\"text-align: right;\">-1.15243 </td><td style=\"text-align: right;\"> 0.646262 </td><td style=\"text-align: right;\">-0.990573</td><td style=\"text-align: right;\"> 0.598763</td><td style=\"text-align: right;\"> -6.60637</td><td style=\"text-align: right;\">    15.3142 </td></tr>\n",
       "<tr><td><i style='opacity: 0.6'>9</i></td><td style=\"text-align: right;\">-1.81286 </td><td style=\"text-align: right;\"> 0.952314 </td><td style=\"text-align: right;\">-0.82758 </td><td style=\"text-align: right;\">-1.48375 </td><td style=\"text-align: right;\"> 32.3527 </td><td style=\"text-align: right;\">    23.0908 </td></tr>\n",
       "</tbody>\n",
       "</table>"
      ],
      "text/plain": [
       "  #         f1          f2         f3         f4     target    prediction\n",
       "  0   1.41915    0.137176    1.52219   -0.562451    5.4802        3.37519\n",
       "  1   0.799657   2.02601     0.322278  -1.82846    48.2477       49.185\n",
       "  2  -1.03163    2.2024     -0.972632  -0.343627   43.7794       53.0593\n",
       "  3   0.818666   0.0447691   0.468079  -1.93543   -22.2781        1.40225\n",
       "  4  -0.302     -1.94349    -1.42975    1.86179   -57.0623      -47.3879\n",
       "  5  -1.86761   -1.79496    -0.415552  -1.68272   -58.0239      -43.1616\n",
       "  6   1.99184    1.64538     0.610103  -1.5712     33.8013       40.0033\n",
       "  7   1.37187   -1.2576     -1.0566    -0.622511  -24.269       -30.2555\n",
       "  8  -1.15243    0.646262   -0.990573   0.598763   -6.60637      15.3142\n",
       "  9  -1.81286    0.952314   -0.82758   -1.48375    32.3527       23.0908"
      ]
     },
     "execution_count": 111,
     "metadata": {},
     "output_type": "execute_result"
    }
   ],
   "source": [
    "df_test = vaex_model.transform(df_test)\n",
    "df_test.head()"
   ]
  },
  {
   "cell_type": "code",
   "execution_count": 112,
   "id": "6742190e",
   "metadata": {},
   "outputs": [
    {
     "name": "stdout",
     "output_type": "stream",
     "text": [
      "0.5920069568303892\n",
      "15.957512042934047\n"
     ]
    }
   ],
   "source": [
    "from sklearn.metrics import r2_score,mean_absolute_error\n",
    "print(r2_score(df_test['target'].values,df_test['prediction'].values))\n",
    "print(mean_absolute_error(df_test['target'].values,df_test['prediction'].values))"
   ]
  },
  {
   "cell_type": "code",
   "execution_count": 116,
   "id": "a555f8b2",
   "metadata": {},
   "outputs": [
    {
     "data": {
      "text/html": [
       "<style>.vaex-description pre {\n",
       "          max-width : 450px;\n",
       "          white-space : nowrap;\n",
       "          overflow : hidden;\n",
       "          text-overflow: ellipsis;\n",
       "        }\n",
       "\n",
       "        .vex-description pre:hover {\n",
       "          max-width : initial;\n",
       "          white-space: pre;\n",
       "        }</style>"
      ],
      "text/plain": [
       "<IPython.core.display.HTML object>"
      ]
     },
     "metadata": {},
     "output_type": "display_data"
    },
    {
     "data": {
      "text/html": [
       "<div><h2>large_data</h2> <b>rows</b>: 30,000,000</div><h2>Columns:</h2><table class='table-striped'><thead><tr><th>column</th><th>type</th><th>unit</th><th>description</th><th>expression</th></tr></thead><tr><td>f1</td><td>float64</td><td></td><td ><pre></pre></td><td></td></tr><tr><td>f2</td><td>float64</td><td></td><td ><pre></pre></td><td></td></tr><tr><td>f3</td><td>float64</td><td></td><td ><pre></pre></td><td></td></tr><tr><td>f4</td><td>float64</td><td></td><td ><pre></pre></td><td></td></tr><tr><td>target</td><td>float64</td><td></td><td ><pre></pre></td><td></td></tr></table><h2>Data:</h2><table>\n",
       "<thead>\n",
       "<tr><th>#                                     </th><th>f1                 </th><th>f2                 </th><th>f3                 </th><th>f4                 </th><th>target             </th></tr>\n",
       "</thead>\n",
       "<tbody>\n",
       "<tr><td><i style='opacity: 0.6'>0</i>         </td><td>1.419149077185487  </td><td>0.1371756549486364 </td><td>1.5221874429768134 </td><td>-0.5624508212979337</td><td>5.480199993950429  </td></tr>\n",
       "<tr><td><i style='opacity: 0.6'>1</i>         </td><td>0.7996566370269093 </td><td>2.026006111649416  </td><td>0.3222775507949805 </td><td>-1.8284632262896627</td><td>48.24772882324523  </td></tr>\n",
       "<tr><td><i style='opacity: 0.6'>2</i>         </td><td>-1.03163265018483  </td><td>2.202399783225899  </td><td>-0.9726322726708004</td><td>-0.3436267911465092</td><td>43.77938503226455  </td></tr>\n",
       "<tr><td><i style='opacity: 0.6'>3</i>         </td><td>0.8186659055814459 </td><td>0.0447691225882184 </td><td>0.4680794597614    </td><td>-1.93542936067231  </td><td>-22.278119173889507</td></tr>\n",
       "<tr><td><i style='opacity: 0.6'>4</i>         </td><td>-0.3020004654796523</td><td>-1.943492371444181 </td><td>-1.4297526811152097</td><td>1.8617866803930847 </td><td>-57.06233011737409 </td></tr>\n",
       "<tr><td>...                                   </td><td>...                </td><td>...                </td><td>...                </td><td>...                </td><td>...                </td></tr>\n",
       "<tr><td><i style='opacity: 0.6'>29,999,995</i></td><td>0.1261115116615045 </td><td>1.6754473663184832 </td><td>-0.0601861186288427</td><td>-0.4582442252935049</td><td>45.77066780969077  </td></tr>\n",
       "<tr><td><i style='opacity: 0.6'>29,999,996</i></td><td>-1.1563370971977232</td><td>1.1741822734726295 </td><td>-0.2459905163366146</td><td>-0.6807595170945469</td><td>21.123397584888487 </td></tr>\n",
       "<tr><td><i style='opacity: 0.6'>29,999,997</i></td><td>-0.932365462133778 </td><td>2.07767862051482   </td><td>-0.2659435175249801</td><td>-0.565129559274725 </td><td>82.80325550066478  </td></tr>\n",
       "<tr><td><i style='opacity: 0.6'>29,999,998</i></td><td>-0.3918029254513583</td><td>-0.9463686130523704</td><td>-0.9216856628471514</td><td>0.6702061169601413 </td><td>-38.25973648516042 </td></tr>\n",
       "<tr><td><i style='opacity: 0.6'>29,999,999</i></td><td>0.8238418486216275 </td><td>-1.7653140390976454</td><td>-1.043657373971526 </td><td>0.7912815429133185 </td><td>-39.35994503401283 </td></tr>\n",
       "</tbody>\n",
       "</table>"
      ],
      "text/plain": [
       "<IPython.core.display.HTML object>"
      ]
     },
     "metadata": {},
     "output_type": "display_data"
    }
   ],
   "source": [
    "df.info(description=True)"
   ]
  },
  {
   "cell_type": "code",
   "execution_count": 117,
   "id": "26970436",
   "metadata": {},
   "outputs": [],
   "source": [
    "# Datatable\n",
    "# Dask\n",
    "# cuDF - using GPU\n",
    "# Distributed platforms - Flink, Dask, Kafka, Apache Spark\n",
    "# Getting data from SQL - https://www.youtube.com/watch?v=8Awk8CpfeGc\n",
    "# Pandas using chunk size\n",
    "# Pandas - 1 - 5 GB\n",
    "# Pandas with Chunk size - 5 - 30 GB\n",
    "# Dask - 30 - 200 GB\n",
    "# Spark/Pyspark - 1000 GB(1TB) - 1000TB(1PT)"
   ]
  },
  {
   "cell_type": "code",
   "execution_count": null,
   "id": "ab3e34f4",
   "metadata": {},
   "outputs": [],
   "source": []
  }
 ],
 "metadata": {
  "kernelspec": {
   "display_name": "Python 3 (ipykernel)",
   "language": "python",
   "name": "python3"
  },
  "language_info": {
   "codemirror_mode": {
    "name": "ipython",
    "version": 3
   },
   "file_extension": ".py",
   "mimetype": "text/x-python",
   "name": "python",
   "nbconvert_exporter": "python",
   "pygments_lexer": "ipython3",
   "version": "3.10.9"
  }
 },
 "nbformat": 4,
 "nbformat_minor": 5
}
